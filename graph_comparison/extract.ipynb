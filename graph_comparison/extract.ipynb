{
 "cells": [
  {
   "cell_type": "code",
   "execution_count": 1,
   "id": "6fe2bbca",
   "metadata": {},
   "outputs": [],
   "source": [
    "import json\n",
    "import numpy as np\n",
    "\n",
    "\n",
    "def load_cell_features(data_path=\"/playpen/jesse/HE_IF/graph_comparison/cell_feature\"):\n",
    "    feature_data = np.load(f\"{data_path}/cell_features.npz\")\n",
    "    cell_ids = feature_data['cell_ids']\n",
    "    features = feature_data['features']\n",
    "    coords = feature_data['coords']\n",
    "    \n",
    "    with open(f\"{data_path}/data_splits.json\", 'r') as f:\n",
    "        data_splits = json.load(f)\n",
    "    \n",
    "    return cell_ids, features, coords, data_splits"
   ]
  },
  {
   "cell_type": "code",
   "execution_count": 2,
   "id": "64fc4c95",
   "metadata": {},
   "outputs": [],
   "source": [
    "import pandas as pd\n",
    "\n",
    "\n",
    "cell_feature = \"/playpen/jesse/HE_IF/graph_comparison/cell_feature/cell_features.npz\"\n",
    "data_path = \"./cell_feature\"\n",
    "cell_ids, features, coords, data_splits = load_cell_features(data_path)\n",
    "\n",
    "csv_file = \"/playpen/jesse/HE_IF/graph_comparison/cell_feature/CRC03_new_coordinates.csv\"\n",
    "df = pd.read_csv(csv_file)\n",
    "\n",
    "biomarker_cols = [\n",
    "    'Hoechst1', 'Hoechst2', 'Hoechst3', 'Hoechst4', 'Hoechst5', \n",
    "    'Hoechst6', 'Hoechst7', 'Hoechst8', 'Hoechst9', 'A488', \n",
    "    'CD3', 'Ki67', 'CD4', 'CD20', 'CD163', 'Ecadherin', \n",
    "    'LaminABC', 'PCNA', 'A555', 'NaKATPase', 'Keratin', \n",
    "    'CD45', 'CD68', 'FOXP3', 'Vimentin', 'Desmin', \n",
    "    'Ki67_570', 'A647', 'CD45RO', 'aSMA', 'PD1', \n",
    "    'CD8a', 'PDL1', 'CDX2', 'CD31', 'Collagen'\n",
    "]"
   ]
  },
  {
   "cell_type": "code",
   "execution_count": null,
   "id": "d50eb71c",
   "metadata": {},
   "outputs": [
    {
     "name": "stdout",
     "output_type": "stream",
     "text": [
      "Train: 451101, Val: 56388, Test: 56388 cells\n"
     ]
    }
   ],
   "source": [
    "from sklearn.preprocessing import StandardScaler\n",
    "\n",
    "train_indices = data_splits['train']\n",
    "val_indices = data_splits['val']\n",
    "test_indices = data_splits['test']\n",
    "\n",
    "train_indices = [int(idx) for idx in train_indices]\n",
    "val_indices = [int(idx) for idx in val_indices]\n",
    "test_indices = [int(idx) for idx in test_indices]\n",
    "\n",
    "biomarker_data = np.log1p(df[biomarker_cols].values)\n",
    "\n",
    "train_targets = biomarker_data[train_indices]\n",
    "val_targets = biomarker_data[val_indices]\n",
    "test_targets = biomarker_data[test_indices]\n",
    "\n",
    "print(f\"Train: {len(train_indices)}, Val: {len(val_indices)}, Test: {len(test_indices)} cells\")\n",
    "\n",
    "# Normalize features\n",
    "scaler = StandardScaler()\n",
    "train_features = scaler.fit_transform(features[train_indices])\n",
    "val_features = scaler.transform(features[val_indices])\n",
    "test_features = scaler.transform(features[test_indices])\n",
    "\n",
    "train_coords = coords[train_indices]\n",
    "val_coords = coords[val_indices]\n",
    "test_coords = coords[test_indices]"
   ]
  },
  {
   "cell_type": "code",
   "execution_count": 7,
   "id": "b5ddb594",
   "metadata": {},
   "outputs": [
    {
     "data": {
      "text/plain": [
       "((451101, 768), (56388, 768), (56388, 768))"
      ]
     },
     "execution_count": 7,
     "metadata": {},
     "output_type": "execute_result"
    }
   ],
   "source": [
    "train_features.shape, val_features.shape, test_features.shape\n"
   ]
  },
  {
   "cell_type": "code",
   "execution_count": 9,
   "id": "5b4c6f0e",
   "metadata": {},
   "outputs": [
    {
     "data": {
      "text/plain": [
       "((451101, 2), (56388, 2), (56388, 2))"
      ]
     },
     "execution_count": 9,
     "metadata": {},
     "output_type": "execute_result"
    }
   ],
   "source": [
    "train_coords.shape, val_coords.shape, test_coords.shape"
   ]
  },
  {
   "cell_type": "code",
   "execution_count": 8,
   "id": "68b11b23",
   "metadata": {},
   "outputs": [
    {
     "data": {
      "text/plain": [
       "((451101, 36), (56388, 36), (56388, 36))"
      ]
     },
     "execution_count": 8,
     "metadata": {},
     "output_type": "execute_result"
    }
   ],
   "source": [
    "train_targets.shape, val_targets.shape, test_targets.shape"
   ]
  }
 ],
 "metadata": {
  "kernelspec": {
   "display_name": "dynh",
   "language": "python",
   "name": "python3"
  },
  "language_info": {
   "codemirror_mode": {
    "name": "ipython",
    "version": 3
   },
   "file_extension": ".py",
   "mimetype": "text/x-python",
   "name": "python",
   "nbconvert_exporter": "python",
   "pygments_lexer": "ipython3",
   "version": "3.10.16"
  }
 },
 "nbformat": 4,
 "nbformat_minor": 5
}
