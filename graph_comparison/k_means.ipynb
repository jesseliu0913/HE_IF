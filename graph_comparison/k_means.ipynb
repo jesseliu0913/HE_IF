{
 "cells": [
  {
   "cell_type": "code",
   "execution_count": 1,
   "id": "5a51004d",
   "metadata": {},
   "outputs": [
    {
     "name": "stderr",
     "output_type": "stream",
     "text": [
      "/home/jesseliu/miniconda3/envs/heif/lib/python3.10/site-packages/tqdm/auto.py:21: TqdmWarning: IProgress not found. Please update jupyter and ipywidgets. See https://ipywidgets.readthedocs.io/en/stable/user_install.html\n",
      "  from .autonotebook import tqdm as notebook_tqdm\n"
     ]
    }
   ],
   "source": [
    "import os\n",
    "import cv2\n",
    "import json\n",
    "import tifffile\n",
    "import numpy as np\n",
    "import pandas as pd\n",
    "import matplotlib.pyplot as plt\n",
    "from sklearn.model_selection import train_test_split\n",
    "from sklearn.cluster import KMeans\n",
    "import multiprocessing\n",
    "from joblib import Parallel, delayed\n",
    "from tqdm import tqdm\n",
    "\n",
    "import torch\n",
    "from torchvision import transforms\n",
    "from transformers import ViTModel, ViTImageProcessor\n"
   ]
  },
  {
   "cell_type": "code",
   "execution_count": 24,
   "id": "0b527a5f",
   "metadata": {},
   "outputs": [
    {
     "name": "stderr",
     "output_type": "stream",
     "text": [
      "Some weights of ViTModel were not initialized from the model checkpoint at google/vit-base-patch16-224 and are newly initialized: ['pooler.dense.bias', 'pooler.dense.weight']\n",
      "You should probably TRAIN this model on a down-stream task to be able to use it for predictions and inference.\n"
     ]
    },
    {
     "data": {
      "text/plain": [
       "ViTModel(\n",
       "  (embeddings): ViTEmbeddings(\n",
       "    (patch_embeddings): ViTPatchEmbeddings(\n",
       "      (projection): Conv2d(3, 768, kernel_size=(16, 16), stride=(16, 16))\n",
       "    )\n",
       "    (dropout): Dropout(p=0.0, inplace=False)\n",
       "  )\n",
       "  (encoder): ViTEncoder(\n",
       "    (layer): ModuleList(\n",
       "      (0-11): 12 x ViTLayer(\n",
       "        (attention): ViTAttention(\n",
       "          (attention): ViTSelfAttention(\n",
       "            (query): Linear(in_features=768, out_features=768, bias=True)\n",
       "            (key): Linear(in_features=768, out_features=768, bias=True)\n",
       "            (value): Linear(in_features=768, out_features=768, bias=True)\n",
       "          )\n",
       "          (output): ViTSelfOutput(\n",
       "            (dense): Linear(in_features=768, out_features=768, bias=True)\n",
       "            (dropout): Dropout(p=0.0, inplace=False)\n",
       "          )\n",
       "        )\n",
       "        (intermediate): ViTIntermediate(\n",
       "          (dense): Linear(in_features=768, out_features=3072, bias=True)\n",
       "          (intermediate_act_fn): GELUActivation()\n",
       "        )\n",
       "        (output): ViTOutput(\n",
       "          (dense): Linear(in_features=3072, out_features=768, bias=True)\n",
       "          (dropout): Dropout(p=0.0, inplace=False)\n",
       "        )\n",
       "        (layernorm_before): LayerNorm((768,), eps=1e-12, elementwise_affine=True)\n",
       "        (layernorm_after): LayerNorm((768,), eps=1e-12, elementwise_affine=True)\n",
       "      )\n",
       "    )\n",
       "  )\n",
       "  (layernorm): LayerNorm((768,), eps=1e-12, elementwise_affine=True)\n",
       "  (pooler): ViTPooler(\n",
       "    (dense): Linear(in_features=768, out_features=768, bias=True)\n",
       "    (activation): Tanh()\n",
       "  )\n",
       ")"
      ]
     },
     "execution_count": 24,
     "metadata": {},
     "output_type": "execute_result"
    }
   ],
   "source": [
    "device = torch.device(\"cuda\" if torch.cuda.is_available() else \"cpu\")\n",
    "\n",
    "processor = ViTImageProcessor.from_pretrained(\"google/vit-base-patch16-224\")\n",
    "vit = ViTModel.from_pretrained(\"google/vit-base-patch16-224\").to(device)\n",
    "vit.eval()"
   ]
  },
  {
   "cell_type": "code",
   "execution_count": 26,
   "id": "129750e9",
   "metadata": {},
   "outputs": [],
   "source": [
    "DATA_PATH = \"/playpen/jesse/HIPI/preprocess/data\"\n",
    "he_path = \"/playpen/jesse/HIPI/preprocess/data/CRC03-HE.ome.tif\"\n",
    "csv_file = \"/playpen/jesse/HIPI/preprocess/data/CRC03_new_coordinates.csv\"\n",
    "\n",
    "he_image = tifffile.imread(he_path)\n",
    "df = pd.read_csv(csv_file)\n"
   ]
  },
  {
   "cell_type": "code",
   "execution_count": 27,
   "id": "6c336224",
   "metadata": {},
   "outputs": [],
   "source": [
    "train_df, temp_df = train_test_split(df, test_size=0.2, random_state=42)\n",
    "val_df, test_df = train_test_split(temp_df, test_size=0.5, random_state=42)\n"
   ]
  },
  {
   "cell_type": "code",
   "execution_count": null,
   "id": "a7359580",
   "metadata": {},
   "outputs": [],
   "source": [
    "def extract_patch(he_image, x, y, area, size=224):\n",
    "    image = np.transpose(he_image, (1, 2, 0))\n",
    "    radius = int(np.sqrt(area / np.pi))\n",
    "\n",
    "    x_min, x_max = max(0, x - radius), min(image.shape[1], x + radius)\n",
    "    y_min, y_max = max(0, y - radius), min(image.shape[0], y + radius)\n",
    "    \n",
    "    if x_max <= x_min or y_max <= y_min or x_min >= image.shape[1] or y_min >= image.shape[0]:\n",
    "        patch = np.zeros((16, 16, 3), dtype=np.float32)\n",
    "    else:\n",
    "        patch = image[y_min:y_max, x_min:x_max]\n",
    "        temp_patch = np.zeros((16, 16, 3), dtype=np.float32)\n",
    "        h, w = min(16, patch.shape[0]), min(16, patch.shape[1])\n",
    "        temp_patch[:h, :w] = patch[:h, :w]\n",
    "        patch = temp_patch\n",
    "\n",
    "    return cv2.resize(patch, (size, size), interpolation=cv2.INTER_AREA)\n"
   ]
  },
  {
   "cell_type": "code",
   "execution_count": null,
   "id": "812b23f2",
   "metadata": {},
   "outputs": [],
   "source": [
    "def extract_features(patch):\n",
    "    pil_image = transforms.ToPILImage()(patch)\n",
    "    inputs = processor(images=pil_image, return_tensors=\"pt\").to(device)\n",
    "    with torch.no_grad():\n",
    "        outputs = vit(**inputs)\n",
    "        features = outputs.last_hidden_state[:, 0, :]\n",
    "    return features.squeeze().cpu().numpy()"
   ]
  },
  {
   "cell_type": "code",
   "execution_count": 29,
   "id": "26d983e1",
   "metadata": {},
   "outputs": [],
   "source": [
    "def process_row(row, he_image):\n",
    "    x, y, area = int(row['X']), int(row['Y']), int(row['AREA'])\n",
    "    patch = extract_patch(he_image, x, y, area)\n",
    "    features = extract_features(patch)\n",
    "    return features, (x, y)\n",
    "\n",
    "def save_features(features, coords, filename):\n",
    "    np.savez(filename, features=features, coords=coords)\n",
    "    print(f\"Saved features to {filename}\")"
   ]
  },
  {
   "cell_type": "code",
   "execution_count": 30,
   "id": "99241b40",
   "metadata": {},
   "outputs": [],
   "source": [
    "def process_data_parallel(dataframe, he_image, output_file, n_jobs=-1):\n",
    "    if n_jobs == -1:\n",
    "        n_jobs = multiprocessing.cpu_count()\n",
    "    \n",
    "    print(f\"Processing {len(dataframe)} samples using {n_jobs} CPUs...\")\n",
    "    \n",
    "    shared_he_image = he_image.copy()\n",
    "    \n",
    "    results = Parallel(n_jobs=n_jobs)(\n",
    "        delayed(process_row)(row, shared_he_image) \n",
    "        for _, row in tqdm(dataframe.iterrows(), total=len(dataframe))\n",
    "    )\n",
    "    \n",
    "    features, coords = zip(*results)\n",
    "    features_array = np.array(features)\n",
    "    coords_array = np.array(coords)\n",
    "    save_features(features_array, coords_array, output_file)\n",
    "    \n",
    "    return features_array, coords_array"
   ]
  },
  {
   "cell_type": "code",
   "execution_count": 31,
   "id": "4a3cffa2",
   "metadata": {},
   "outputs": [],
   "source": [
    "def run_kmeans(features, n_clusters=5):\n",
    "    kmeans = KMeans(n_clusters=n_clusters, random_state=42, n_init=10)\n",
    "    cluster_labels = kmeans.fit_predict(features)\n",
    "    return kmeans, cluster_labels"
   ]
  },
  {
   "cell_type": "code",
   "execution_count": null,
   "id": "68d71030",
   "metadata": {},
   "outputs": [
    {
     "name": "stdout",
     "output_type": "stream",
     "text": [
      "Processing 563877 samples using 152 CPUs...\n"
     ]
    }
   ],
   "source": [
    "n_cpus = -1  \n",
    "    \n",
    "features_file = os.path.join(DATA_PATH, \"extracted_features.npz\")\n",
    "features, coords = process_data_parallel(df, he_image, features_file, n_jobs=n_cpus)\n",
    "\n",
    "n_clusters = 5\n",
    "kmeans, cluster_labels = run_kmeans(features, n_clusters=n_clusters)\n",
    "\n"
   ]
  },
  {
   "cell_type": "code",
   "execution_count": 2,
   "id": "9471cddf",
   "metadata": {},
   "outputs": [
    {
     "name": "stdout",
     "output_type": "stream",
     "text": [
      "0\n"
     ]
    }
   ],
   "source": [
    "csv_file = \"/playpen/jesse/HIPI/preprocess/data/CRC03_new_coordinates.csv\"\n",
    "\n",
    "df = pd.read_csv(csv_file)\n",
    "for i, row in df.iterrows():\n",
    "    cell_ids = row.name\n",
    "    print(cell_ids)\n",
    "    break"
   ]
  }
 ],
 "metadata": {
  "kernelspec": {
   "display_name": "heif",
   "language": "python",
   "name": "python3"
  },
  "language_info": {
   "codemirror_mode": {
    "name": "ipython",
    "version": 3
   },
   "file_extension": ".py",
   "mimetype": "text/x-python",
   "name": "python",
   "nbconvert_exporter": "python",
   "pygments_lexer": "ipython3",
   "version": "3.10.16"
  }
 },
 "nbformat": 4,
 "nbformat_minor": 5
}
