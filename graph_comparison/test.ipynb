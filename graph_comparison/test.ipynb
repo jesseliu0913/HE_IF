{
 "cells": [
  {
   "cell_type": "code",
   "execution_count": 2,
   "id": "94f91134",
   "metadata": {},
   "outputs": [],
   "source": [
    "import json\n",
    "import numpy as np\n",
    "import pandas as pd\n",
    "\n",
    "\n",
    "def load_cell_features(data_path=\"/playpen/jesse/HE_IF/graph_comparison/cell_feature_naive\"):\n",
    "    feature_data = np.load(f\"{data_path}/cell_features.npz\")\n",
    "    cell_ids = feature_data['cell_ids']\n",
    "    features = feature_data['features']\n",
    "    coords = feature_data['coords']\n",
    "    \n",
    "    with open(f\"{data_path}/data_splits.json\", 'r') as f:\n",
    "        data_splits = json.load(f)\n",
    "    \n",
    "    return cell_ids, features, coords, data_splits\n",
    "\n",
    "data_path = \"/playpen/jesse/HE_IF/graph_comparison/cell_feature_naive\"\n",
    "cell_ids, features, coords, data_splits = load_cell_features(data_path)"
   ]
  },
  {
   "cell_type": "code",
   "execution_count": 3,
   "id": "0beb0eb9",
   "metadata": {},
   "outputs": [
    {
     "name": "stdout",
     "output_type": "stream",
     "text": [
      "(451101, 224, 224)\n"
     ]
    }
   ],
   "source": [
    "train_indices = data_splits['train']\n",
    "train_feature = features[train_indices]\n",
    "print(train_feature.shape)"
   ]
  }
 ],
 "metadata": {
  "kernelspec": {
   "display_name": "dynh",
   "language": "python",
   "name": "python3"
  },
  "language_info": {
   "codemirror_mode": {
    "name": "ipython",
    "version": 3
   },
   "file_extension": ".py",
   "mimetype": "text/x-python",
   "name": "python",
   "nbconvert_exporter": "python",
   "pygments_lexer": "ipython3",
   "version": "3.10.16"
  }
 },
 "nbformat": 4,
 "nbformat_minor": 5
}
